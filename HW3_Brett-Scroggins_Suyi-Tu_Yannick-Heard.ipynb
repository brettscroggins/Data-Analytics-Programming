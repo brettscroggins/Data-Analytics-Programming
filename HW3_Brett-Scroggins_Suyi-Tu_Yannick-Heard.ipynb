{
 "cells": [
  {
   "cell_type": "markdown",
   "metadata": {},
   "source": [
    "## HW3"
   ]
  },
  {
   "cell_type": "markdown",
   "metadata": {},
   "source": [
    "Brett Scroggins, Suyi Tu, Yannick Heard"
   ]
  },
  {
   "cell_type": "markdown",
   "metadata": {},
   "source": [
    "### Q1 Read in data"
   ]
  },
  {
   "cell_type": "markdown",
   "metadata": {},
   "source": [
    "* Change the working directory\n",
    "* Roughly look at the files\n",
    "* Use read.table() to open the files and choose '\\t' as the separator\n",
    "* Use drop_duplicates() to remove duplicated rows"
   ]
  },
  {
   "cell_type": "code",
   "execution_count": 2,
   "metadata": {},
   "outputs": [
    {
     "name": "stdout",
     "output_type": "stream",
     "text": [
      "Populating the interactive namespace from numpy and matplotlib\n"
     ]
    }
   ],
   "source": [
    "import pandas as pd\n",
    "import os\n",
    "%pylab inline"
   ]
  },
  {
   "cell_type": "code",
   "execution_count": 3,
   "metadata": {
    "collapsed": true
   },
   "outputs": [],
   "source": [
    "# Input the gold table as a DataFrame with the separator as a white space and category names assigned.\n",
    "gold = pd.read_table('/Users/brettscroggins/Downloads/gold.txt',\n",
    "                     delim_whitespace=True, names=('url', 'category'))"
   ]
  },
  {
   "cell_type": "code",
   "execution_count": 4,
   "metadata": {
    "collapsed": true
   },
   "outputs": [],
   "source": [
    "# Input the labels table as a DataFrame with the separator as a white space and category names assigned.\n",
    "labels = pd.read_table('/Users/brettscroggins/Downloads/labels.txt',\n",
    "                     delim_whitespace=True, names=('turk','url','category'))"
   ]
  },
  {
   "cell_type": "markdown",
   "metadata": {},
   "source": [
    "### Q2 Split into two DataFrames"
   ]
  },
  {
   "cell_type": "markdown",
   "metadata": {},
   "source": [
    "* Create the mask using .isin()\n",
    "* Use the mask to seperate the dataframe"
   ]
  },
  {
   "cell_type": "code",
   "execution_count": 5,
   "metadata": {},
   "outputs": [
    {
     "data": {
      "text/plain": [
       "89397"
      ]
     },
     "execution_count": 5,
     "metadata": {},
     "output_type": "execute_result"
    }
   ],
   "source": [
    "mask_gold = labels['url'].isin(gold['url'])\n",
    "labels_on_gold = labels[mask_gold].copy()\n",
    "labels_unknown = labels[~mask_gold].copy()\n",
    "len(labels_unknown)"
   ]
  },
  {
   "cell_type": "markdown",
   "metadata": {},
   "source": [
    "### Q3 Computer accuracies of turks"
   ]
  },
  {
   "cell_type": "markdown",
   "metadata": {},
   "source": [
    "* Merge gold with labels_on_gold, and compare the categories to see if it is correct\n",
    "* Use value_counts() on label['turk'] to count the number of ratings for each rater\n",
    "* Use aggregate function groupby and sum to count the number of correct ratings for each rater\n",
    "* Avg correctness = number of correct ratings / number of ratings"
   ]
  },
  {
   "cell_type": "code",
   "execution_count": 6,
   "metadata": {},
   "outputs": [
    {
     "name": "stdout",
     "output_type": "stream",
     "text": [
      "269\n"
     ]
    },
    {
     "data": {
      "text/html": [
       "<div>\n",
       "<style>\n",
       "    .dataframe thead tr:only-child th {\n",
       "        text-align: right;\n",
       "    }\n",
       "\n",
       "    .dataframe thead th {\n",
       "        text-align: left;\n",
       "    }\n",
       "\n",
       "    .dataframe tbody tr th {\n",
       "        vertical-align: top;\n",
       "    }\n",
       "</style>\n",
       "<table border=\"1\" class=\"dataframe\">\n",
       "  <thead>\n",
       "    <tr style=\"text-align: right;\">\n",
       "      <th></th>\n",
       "      <th>Accuracy</th>\n",
       "      <th>Number of Gold Ratings</th>\n",
       "    </tr>\n",
       "    <tr>\n",
       "      <th>turk</th>\n",
       "      <th></th>\n",
       "      <th></th>\n",
       "    </tr>\n",
       "  </thead>\n",
       "  <tbody>\n",
       "    <tr>\n",
       "      <th>A112DVP1KG4QZU</th>\n",
       "      <td>1.000000</td>\n",
       "      <td>1</td>\n",
       "    </tr>\n",
       "    <tr>\n",
       "      <th>A1253FXHCZ9CWM</th>\n",
       "      <td>0.517241</td>\n",
       "      <td>29</td>\n",
       "    </tr>\n",
       "    <tr>\n",
       "      <th>A12CY1Q7XKJJDE</th>\n",
       "      <td>1.000000</td>\n",
       "      <td>1</td>\n",
       "    </tr>\n",
       "    <tr>\n",
       "      <th>A12RE8G66WTO8B</th>\n",
       "      <td>0.750000</td>\n",
       "      <td>20</td>\n",
       "    </tr>\n",
       "    <tr>\n",
       "      <th>A12Y1GTGIQDGRA</th>\n",
       "      <td>0.333333</td>\n",
       "      <td>3</td>\n",
       "    </tr>\n",
       "  </tbody>\n",
       "</table>\n",
       "</div>"
      ],
      "text/plain": [
       "                Accuracy  Number of Gold Ratings\n",
       "turk                                            \n",
       "A112DVP1KG4QZU  1.000000                       1\n",
       "A1253FXHCZ9CWM  0.517241                      29\n",
       "A12CY1Q7XKJJDE  1.000000                       1\n",
       "A12RE8G66WTO8B  0.750000                      20\n",
       "A12Y1GTGIQDGRA  0.333333                       3"
      ]
     },
     "execution_count": 6,
     "metadata": {},
     "output_type": "execute_result"
    }
   ],
   "source": [
    "df_comparison = labels_on_gold.merge(gold,left_on='url',right_on='url',suffixes=['label','gold'])\n",
    "df_comparison['correct'] = (df_comparison['categorylabel']==df_comparison['categorygold'])\n",
    "accuracy = df_comparison.groupby('turk')['correct'].sum()/df_comparison.groupby('turk')['correct'].count()\n",
    "rater_goodness = pd.DataFrame({'Number of Gold Ratings':df_comparison.groupby('turk')['correct'].count(),'Accuracy':accuracy})\n",
    "print len(rater_goodness)\n",
    "rater_goodness[:5]"
   ]
  },
  {
   "cell_type": "markdown",
   "metadata": {},
   "source": [
    "### Q4 Odds ratios"
   ]
  },
  {
   "cell_type": "markdown",
   "metadata": {},
   "source": [
    "* odds = avg_goodness / (1.001 - avg_goodness)"
   ]
  },
  {
   "cell_type": "code",
   "execution_count": 7,
   "metadata": {},
   "outputs": [
    {
     "name": "stdout",
     "output_type": "stream",
     "text": [
      "269\n"
     ]
    },
    {
     "data": {
      "text/html": [
       "<div>\n",
       "<style>\n",
       "    .dataframe thead tr:only-child th {\n",
       "        text-align: right;\n",
       "    }\n",
       "\n",
       "    .dataframe thead th {\n",
       "        text-align: left;\n",
       "    }\n",
       "\n",
       "    .dataframe tbody tr th {\n",
       "        vertical-align: top;\n",
       "    }\n",
       "</style>\n",
       "<table border=\"1\" class=\"dataframe\">\n",
       "  <thead>\n",
       "    <tr style=\"text-align: right;\">\n",
       "      <th></th>\n",
       "      <th>Accuracy</th>\n",
       "      <th>Number of Gold Ratings</th>\n",
       "      <th>Odds</th>\n",
       "    </tr>\n",
       "    <tr>\n",
       "      <th>turk</th>\n",
       "      <th></th>\n",
       "      <th></th>\n",
       "      <th></th>\n",
       "    </tr>\n",
       "  </thead>\n",
       "  <tbody>\n",
       "    <tr>\n",
       "      <th>A112DVP1KG4QZU</th>\n",
       "      <td>1.000000</td>\n",
       "      <td>1</td>\n",
       "      <td>1000.000000</td>\n",
       "    </tr>\n",
       "    <tr>\n",
       "      <th>A1253FXHCZ9CWM</th>\n",
       "      <td>0.517241</td>\n",
       "      <td>29</td>\n",
       "      <td>1.069214</td>\n",
       "    </tr>\n",
       "    <tr>\n",
       "      <th>A12CY1Q7XKJJDE</th>\n",
       "      <td>1.000000</td>\n",
       "      <td>1</td>\n",
       "      <td>1000.000000</td>\n",
       "    </tr>\n",
       "    <tr>\n",
       "      <th>A12RE8G66WTO8B</th>\n",
       "      <td>0.750000</td>\n",
       "      <td>20</td>\n",
       "      <td>2.988048</td>\n",
       "    </tr>\n",
       "    <tr>\n",
       "      <th>A12Y1GTGIQDGRA</th>\n",
       "      <td>0.333333</td>\n",
       "      <td>3</td>\n",
       "      <td>0.499251</td>\n",
       "    </tr>\n",
       "  </tbody>\n",
       "</table>\n",
       "</div>"
      ],
      "text/plain": [
       "                Accuracy  Number of Gold Ratings         Odds\n",
       "turk                                                         \n",
       "A112DVP1KG4QZU  1.000000                       1  1000.000000\n",
       "A1253FXHCZ9CWM  0.517241                      29     1.069214\n",
       "A12CY1Q7XKJJDE  1.000000                       1  1000.000000\n",
       "A12RE8G66WTO8B  0.750000                      20     2.988048\n",
       "A12Y1GTGIQDGRA  0.333333                       3     0.499251"
      ]
     },
     "execution_count": 7,
     "metadata": {},
     "output_type": "execute_result"
    }
   ],
   "source": [
    "rater_goodness['Odds'] = rater_goodness['Accuracy']/ (1.001 - rater_goodness['Accuracy'])\n",
    "print len(rater_goodness)\n",
    "rater_goodness[:5]"
   ]
  },
  {
   "cell_type": "markdown",
   "metadata": {},
   "source": [
    "### Q5 Most accurate turks"
   ]
  },
  {
   "cell_type": "markdown",
   "metadata": {},
   "source": [
    "* Use a mask to get the avg_correctness of raters that rate at least 20 gold set urls\n",
    "* Use sort_values on the correctness and get the top 10 accurate turks"
   ]
  },
  {
   "cell_type": "code",
   "execution_count": 8,
   "metadata": {},
   "outputs": [
    {
     "data": {
      "text/plain": [
       "turk\n",
       "A22C0PJUBFJTI0    0.916667\n",
       "A23YQUBXZPKILZ    0.875000\n",
       "ATVALOQVDCMZW     0.854369\n",
       "A1HIXWH4OXT8S4    0.825000\n",
       "A3220HG1O83HQ4    0.818182\n",
       "A32W20KGQXS0LL    0.800000\n",
       "AJSJVK40F5HM6     0.785714\n",
       "A31OCN4MNHUQ6W    0.777174\n",
       "A3MA9V9UPGCOK7    0.774648\n",
       "A3IP9KYNZZ028B    0.772727\n",
       "Name: Accuracy, dtype: float64"
      ]
     },
     "execution_count": 8,
     "metadata": {},
     "output_type": "execute_result"
    }
   ],
   "source": [
    "rater_goodness[rater_goodness['Number of Gold Ratings']>20]['Accuracy'].sort_values(ascending=False)[:10]"
   ]
  },
  {
   "cell_type": "markdown",
   "metadata": {},
   "source": [
    "### Q6 Rating counts versus accuracy"
   ]
  },
  {
   "cell_type": "markdown",
   "metadata": {},
   "source": [
    "* Use a maske to get the raters that rate the gold set\n",
    "* plot their accuracy against counts"
   ]
  },
  {
   "cell_type": "code",
   "execution_count": 9,
   "metadata": {},
   "outputs": [
    {
     "data": {
      "text/plain": [
       "<matplotlib.text.Text at 0x10e656110>"
      ]
     },
     "execution_count": 9,
     "metadata": {},
     "output_type": "execute_result"
    },
    {
     "data": {
      "image/png": "[encoded data removed]",
      "text/plain": [
       "<matplotlib.figure.Figure at 0x10d760950>"
      ]
     },
     "metadata": {},
     "output_type": "display_data"
    }
   ],
   "source": [
    "plot(rater_goodness['Number of Gold Ratings'],rater_goodness['Accuracy'],marker='o',color='red',linestyle='None')\n",
    "xlabel('number of ratings')\n",
    "ylabel('avg_correctness')\n",
    "title('Avg accuracy versus Rating counts')"
   ]
  },
  {
   "cell_type": "markdown",
   "metadata": {},
   "source": [
    "#### Generally, the more turks rate, the more accurate they are."
   ]
  },
  {
   "cell_type": "markdown",
   "metadata": {},
   "source": [
    "### Q7 Overall predicted odds"
   ]
  },
  {
   "cell_type": "markdown",
   "metadata": {},
   "source": [
    "* Create a pair of (u,c) in the labels_unknown created at Q2\n",
    "* Use quantile to get 75% of the number of golden set rated by each rater\n",
    "* Use a mask to get the information of turks who have rated more(>) gold set urls than 75% of all turks\n",
    "* Merge information of the turks with labels_unknown\n",
    "* Group the merged df by (u,c) pairs and calculate the overall predicted odds"
   ]
  },
  {
   "cell_type": "code",
   "execution_count": 10,
   "metadata": {},
   "outputs": [
    {
     "name": "stdout",
     "output_type": "stream",
     "text": [
      "40621\n"
     ]
    },
    {
     "data": {
      "text/html": [
       "<div>\n",
       "<style>\n",
       "    .dataframe thead tr:only-child th {\n",
       "        text-align: right;\n",
       "    }\n",
       "\n",
       "    .dataframe thead th {\n",
       "        text-align: left;\n",
       "    }\n",
       "\n",
       "    .dataframe tbody tr th {\n",
       "        vertical-align: top;\n",
       "    }\n",
       "</style>\n",
       "<table border=\"1\" class=\"dataframe\">\n",
       "  <thead>\n",
       "    <tr style=\"text-align: right;\">\n",
       "      <th></th>\n",
       "      <th>turk</th>\n",
       "      <th>url</th>\n",
       "      <th>category</th>\n",
       "      <th>pair</th>\n",
       "      <th>Accuracy</th>\n",
       "      <th>Number of Gold Ratings</th>\n",
       "      <th>Odds</th>\n",
       "    </tr>\n",
       "  </thead>\n",
       "  <tbody>\n",
       "    <tr>\n",
       "      <th>0</th>\n",
       "      <td>A1PXXEOGQ76RNJ</td>\n",
       "      <td>http://000.cc</td>\n",
       "      <td>G</td>\n",
       "      <td>(http://000.cc, G)</td>\n",
       "      <td>0.512195</td>\n",
       "      <td>41</td>\n",
       "      <td>1.047852</td>\n",
       "    </tr>\n",
       "    <tr>\n",
       "      <th>1</th>\n",
       "      <td>A1PXXEOGQ76RNJ</td>\n",
       "      <td>http://000.cc</td>\n",
       "      <td>G</td>\n",
       "      <td>(http://000.cc, G)</td>\n",
       "      <td>0.512195</td>\n",
       "      <td>41</td>\n",
       "      <td>1.047852</td>\n",
       "    </tr>\n",
       "    <tr>\n",
       "      <th>2</th>\n",
       "      <td>A1PXXEOGQ76RNJ</td>\n",
       "      <td>http://0000.jp</td>\n",
       "      <td>G</td>\n",
       "      <td>(http://0000.jp, G)</td>\n",
       "      <td>0.512195</td>\n",
       "      <td>41</td>\n",
       "      <td>1.047852</td>\n",
       "    </tr>\n",
       "    <tr>\n",
       "      <th>3</th>\n",
       "      <td>A1PXXEOGQ76RNJ</td>\n",
       "      <td>http://000relationships.com</td>\n",
       "      <td>G</td>\n",
       "      <td>(http://000relationships.com, G)</td>\n",
       "      <td>0.512195</td>\n",
       "      <td>41</td>\n",
       "      <td>1.047852</td>\n",
       "    </tr>\n",
       "    <tr>\n",
       "      <th>4</th>\n",
       "      <td>A1PXXEOGQ76RNJ</td>\n",
       "      <td>http://000relationships.com</td>\n",
       "      <td>G</td>\n",
       "      <td>(http://000relationships.com, G)</td>\n",
       "      <td>0.512195</td>\n",
       "      <td>41</td>\n",
       "      <td>1.047852</td>\n",
       "    </tr>\n",
       "    <tr>\n",
       "      <th>5</th>\n",
       "      <td>A1PXXEOGQ76RNJ</td>\n",
       "      <td>http://007swz.cn</td>\n",
       "      <td>G</td>\n",
       "      <td>(http://007swz.cn, G)</td>\n",
       "      <td>0.512195</td>\n",
       "      <td>41</td>\n",
       "      <td>1.047852</td>\n",
       "    </tr>\n",
       "    <tr>\n",
       "      <th>6</th>\n",
       "      <td>A1PXXEOGQ76RNJ</td>\n",
       "      <td>http://01768.com</td>\n",
       "      <td>G</td>\n",
       "      <td>(http://01768.com, G)</td>\n",
       "      <td>0.512195</td>\n",
       "      <td>41</td>\n",
       "      <td>1.047852</td>\n",
       "    </tr>\n",
       "    <tr>\n",
       "      <th>7</th>\n",
       "      <td>A1PXXEOGQ76RNJ</td>\n",
       "      <td>http://0198.cc</td>\n",
       "      <td>G</td>\n",
       "      <td>(http://0198.cc, G)</td>\n",
       "      <td>0.512195</td>\n",
       "      <td>41</td>\n",
       "      <td>1.047852</td>\n",
       "    </tr>\n",
       "    <tr>\n",
       "      <th>8</th>\n",
       "      <td>A1PXXEOGQ76RNJ</td>\n",
       "      <td>http://01house.cn</td>\n",
       "      <td>G</td>\n",
       "      <td>(http://01house.cn, G)</td>\n",
       "      <td>0.512195</td>\n",
       "      <td>41</td>\n",
       "      <td>1.047852</td>\n",
       "    </tr>\n",
       "    <tr>\n",
       "      <th>9</th>\n",
       "      <td>A1PXXEOGQ76RNJ</td>\n",
       "      <td>http://01house.cn</td>\n",
       "      <td>G</td>\n",
       "      <td>(http://01house.cn, G)</td>\n",
       "      <td>0.512195</td>\n",
       "      <td>41</td>\n",
       "      <td>1.047852</td>\n",
       "    </tr>\n",
       "  </tbody>\n",
       "</table>\n",
       "</div>"
      ],
      "text/plain": [
       "             turk                          url category  \\\n",
       "0  A1PXXEOGQ76RNJ                http://000.cc        G   \n",
       "1  A1PXXEOGQ76RNJ                http://000.cc        G   \n",
       "2  A1PXXEOGQ76RNJ               http://0000.jp        G   \n",
       "3  A1PXXEOGQ76RNJ  http://000relationships.com        G   \n",
       "4  A1PXXEOGQ76RNJ  http://000relationships.com        G   \n",
       "5  A1PXXEOGQ76RNJ             http://007swz.cn        G   \n",
       "6  A1PXXEOGQ76RNJ             http://01768.com        G   \n",
       "7  A1PXXEOGQ76RNJ               http://0198.cc        G   \n",
       "8  A1PXXEOGQ76RNJ            http://01house.cn        G   \n",
       "9  A1PXXEOGQ76RNJ            http://01house.cn        G   \n",
       "\n",
       "                               pair  Accuracy  Number of Gold Ratings  \\\n",
       "0                (http://000.cc, G)  0.512195                      41   \n",
       "1                (http://000.cc, G)  0.512195                      41   \n",
       "2               (http://0000.jp, G)  0.512195                      41   \n",
       "3  (http://000relationships.com, G)  0.512195                      41   \n",
       "4  (http://000relationships.com, G)  0.512195                      41   \n",
       "5             (http://007swz.cn, G)  0.512195                      41   \n",
       "6             (http://01768.com, G)  0.512195                      41   \n",
       "7               (http://0198.cc, G)  0.512195                      41   \n",
       "8            (http://01house.cn, G)  0.512195                      41   \n",
       "9            (http://01house.cn, G)  0.512195                      41   \n",
       "\n",
       "       Odds  \n",
       "0  1.047852  \n",
       "1  1.047852  \n",
       "2  1.047852  \n",
       "3  1.047852  \n",
       "4  1.047852  \n",
       "5  1.047852  \n",
       "6  1.047852  \n",
       "7  1.047852  \n",
       "8  1.047852  \n",
       "9  1.047852  "
      ]
     },
     "execution_count": 10,
     "metadata": {},
     "output_type": "execute_result"
    }
   ],
   "source": [
    "labels_unknown['pair'] = labels_unknown.apply(lambda x: (x['url'],x['category']),axis=1)\n",
    "\n",
    "Upper_gr_turks = rater_goodness[rater_goodness['Number of Gold Ratings']>rater_goodness['Number of Gold Ratings'].quantile(q=0.75)].copy()\n",
    "Upper_gr_turks['turk'] = Upper_gr_turks.index\n",
    "\n",
    "df_labelunknown = (labels_unknown.merge(Upper_gr_turks,left_on='turk',right_on='turk',suffixes=['Unknown','Upper_turks'])).fillna(0)\n",
    "print len(df_labelunknown)\n",
    "df_labelunknown[:10]"
   ]
  },
  {
   "cell_type": "code",
   "execution_count": 11,
   "metadata": {},
   "outputs": [
    {
     "data": {
      "text/plain": [
       "pair\n",
       "(http://0-101.net, G)                                              2.155963\n",
       "(http://000.cc, G)                                                 1.460583\n",
       "(http://0000.jp, G)                                               14.488244\n",
       "(http://000relationships.com, G)                                   5.681060\n",
       "(http://000relationships.com, P)                                   1.851852\n",
       "(http://000vitamins.com, G)                                        3.784982\n",
       "(http://000webhost.com, G)                                        11.159502\n",
       "(http://003my.com, G)                                              4.912040\n",
       "(http://007absolutehardcore.com/early_cumshots/index.html, P)      3.346522\n",
       "(http://007absolutehardcore.com/early_cumshots/index.html, R)     12.290450\n",
       "(http://007absolutehardcore.com/early_cumshots/index.html, X)    293.252871\n",
       "(http://007swz.cn, G)                                              1.393883\n",
       "(http://01768.com, G)                                              1.393883\n",
       "(http://0198.cc, G)                                                2.947446\n",
       "(http://01house.cn, G)                                             3.874200\n",
       "(http://01net.com, G)                                              2.463388\n",
       "(http://01yyy.com, G)                                              3.874200\n",
       "(http://01yyy.com, R)                                              1.304682\n",
       "(http://020dna.com, G)                                             5.054597\n",
       "(http://020dna.com, R)                                             1.620746\n",
       "Name: Odds, dtype: float64"
      ]
     },
     "execution_count": 11,
     "metadata": {},
     "output_type": "execute_result"
    }
   ],
   "source": [
    "Overall_odds = df_labelunknown.groupby('pair')['Odds'].prod().fillna(0)\n",
    "Overall_odds[:20]"
   ]
  },
  {
   "cell_type": "markdown",
   "metadata": {},
   "source": [
    "### Q8 Predicted categories"
   ]
  },
  {
   "cell_type": "markdown",
   "metadata": {},
   "source": [
    "* Use zip(\\*tuple) to unpack the pair and create a dataframe with url,category,odds as its columns\n",
    "* Use groupby and max to find the largest overall_odd and the corresponding category of a certain url"
   ]
  },
  {
   "cell_type": "code",
   "execution_count": 12,
   "metadata": {},
   "outputs": [
    {
     "name": "stdout",
     "output_type": "stream",
     "text": [
      "10610\n"
     ]
    },
    {
     "data": {
      "text/html": [
       "<div>\n",
       "<style>\n",
       "    .dataframe thead tr:only-child th {\n",
       "        text-align: right;\n",
       "    }\n",
       "\n",
       "    .dataframe thead th {\n",
       "        text-align: left;\n",
       "    }\n",
       "\n",
       "    .dataframe tbody tr th {\n",
       "        vertical-align: top;\n",
       "    }\n",
       "</style>\n",
       "<table border=\"1\" class=\"dataframe\">\n",
       "  <thead>\n",
       "    <tr style=\"text-align: right;\">\n",
       "      <th></th>\n",
       "      <th>top category</th>\n",
       "      <th>top odds</th>\n",
       "    </tr>\n",
       "    <tr>\n",
       "      <th>urls</th>\n",
       "      <th></th>\n",
       "      <th></th>\n",
       "    </tr>\n",
       "  </thead>\n",
       "  <tbody>\n",
       "    <tr>\n",
       "      <th>http://0-101.net</th>\n",
       "      <td>G</td>\n",
       "      <td>2.155963</td>\n",
       "    </tr>\n",
       "    <tr>\n",
       "      <th>http://000.cc</th>\n",
       "      <td>G</td>\n",
       "      <td>1.460583</td>\n",
       "    </tr>\n",
       "    <tr>\n",
       "      <th>http://0000.jp</th>\n",
       "      <td>G</td>\n",
       "      <td>14.488244</td>\n",
       "    </tr>\n",
       "    <tr>\n",
       "      <th>http://000relationships.com</th>\n",
       "      <td>G</td>\n",
       "      <td>5.681060</td>\n",
       "    </tr>\n",
       "    <tr>\n",
       "      <th>http://000vitamins.com</th>\n",
       "      <td>G</td>\n",
       "      <td>3.784982</td>\n",
       "    </tr>\n",
       "    <tr>\n",
       "      <th>http://000webhost.com</th>\n",
       "      <td>G</td>\n",
       "      <td>11.159502</td>\n",
       "    </tr>\n",
       "    <tr>\n",
       "      <th>http://003my.com</th>\n",
       "      <td>G</td>\n",
       "      <td>4.912040</td>\n",
       "    </tr>\n",
       "    <tr>\n",
       "      <th>http://007absolutehardcore.com/early_cumshots/index.html</th>\n",
       "      <td>X</td>\n",
       "      <td>293.252871</td>\n",
       "    </tr>\n",
       "    <tr>\n",
       "      <th>http://007swz.cn</th>\n",
       "      <td>G</td>\n",
       "      <td>1.393883</td>\n",
       "    </tr>\n",
       "    <tr>\n",
       "      <th>http://01768.com</th>\n",
       "      <td>G</td>\n",
       "      <td>1.393883</td>\n",
       "    </tr>\n",
       "  </tbody>\n",
       "</table>\n",
       "</div>"
      ],
      "text/plain": [
       "                                                   top category    top odds\n",
       "urls                                                                       \n",
       "http://0-101.net                                              G    2.155963\n",
       "http://000.cc                                                 G    1.460583\n",
       "http://0000.jp                                                G   14.488244\n",
       "http://000relationships.com                                   G    5.681060\n",
       "http://000vitamins.com                                        G    3.784982\n",
       "http://000webhost.com                                         G   11.159502\n",
       "http://003my.com                                              G    4.912040\n",
       "http://007absolutehardcore.com/early_cumshots/i...            X  293.252871\n",
       "http://007swz.cn                                              G    1.393883\n",
       "http://01768.com                                              G    1.393883"
      ]
     },
     "execution_count": 12,
     "metadata": {},
     "output_type": "execute_result"
    }
   ],
   "source": [
    "import numpy as np\n",
    "Overall_odds_df=pd.DataFrame([list(zip(*Overall_odds.index.values))[0],list(zip(*Overall_odds.index.values))[1],Overall_odds.values],index=['urls','category','overall_odds']).T\n",
    "results_75 = Overall_odds_df.groupby('urls')['category','overall_odds'].agg(lambda x: x.loc[np.argmax(x['overall_odds'])])\n",
    "results_75.columns = ['top category','top odds']\n",
    "print len(results_75)\n",
    "results_75[:10]                                                                   "
   ]
  },
  {
   "cell_type": "markdown",
   "metadata": {},
   "source": [
    "### Q9 Predicted categories using more turks"
   ]
  },
  {
   "cell_type": "markdown",
   "metadata": {},
   "source": [
    "* Use the same method to calculate resuls_25(>quantile(0.25))\n",
    "* Use crosstab to compare the results"
   ]
  },
  {
   "cell_type": "code",
   "execution_count": 13,
   "metadata": {
    "collapsed": true
   },
   "outputs": [],
   "source": [
    "Upper_gr_turks_25 = rater_goodness[rater_goodness['Number of Gold Ratings']>rater_goodness['Number of Gold Ratings'].quantile(q=0.25)].copy()\n",
    "Upper_gr_turks_25['turk'] = Upper_gr_turks_25.index\n",
    "\n",
    "df_labelunknown_25 = (labels_unknown.merge(Upper_gr_turks_25,left_on='turk',right_on='turk',suffixes=['Unknown','Upper_turks'])).fillna(0)\n",
    "\n",
    "Overall_odds_25 = df_labelunknown_25.groupby('pair')['Odds'].prod().fillna(0)\n",
    "Overall_odds_df_25=pd.DataFrame([list(zip(*Overall_odds_25.index.values))[0],list(zip(*Overall_odds_25.index.values))[1],Overall_odds_25.values],index=['urls','category','overall_odds']).T\n",
    "\n",
    "results_25 = Overall_odds_df_25.groupby('urls')['category','overall_odds'].agg(lambda x: x.loc[np.argmax(x['overall_odds'])])\n",
    "results_25.columns = ['top category','top odds']"
   ]
  },
  {
   "cell_type": "code",
   "execution_count": 14,
   "metadata": {},
   "outputs": [
    {
     "data": {
      "text/plain": [
       "10700"
      ]
     },
     "execution_count": 14,
     "metadata": {},
     "output_type": "execute_result"
    }
   ],
   "source": [
    "len(results_25)"
   ]
  },
  {
   "cell_type": "code",
   "execution_count": 15,
   "metadata": {},
   "outputs": [
    {
     "data": {
      "text/html": [
       "<div>\n",
       "<style>\n",
       "    .dataframe thead tr:only-child th {\n",
       "        text-align: right;\n",
       "    }\n",
       "\n",
       "    .dataframe thead th {\n",
       "        text-align: left;\n",
       "    }\n",
       "\n",
       "    .dataframe tbody tr th {\n",
       "        vertical-align: top;\n",
       "    }\n",
       "</style>\n",
       "<table border=\"1\" class=\"dataframe\">\n",
       "  <thead>\n",
       "    <tr style=\"text-align: right;\">\n",
       "      <th>topcate_25</th>\n",
       "      <th>G</th>\n",
       "      <th>P</th>\n",
       "      <th>R</th>\n",
       "      <th>X</th>\n",
       "      <th>All</th>\n",
       "    </tr>\n",
       "    <tr>\n",
       "      <th>topcate_75</th>\n",
       "      <th></th>\n",
       "      <th></th>\n",
       "      <th></th>\n",
       "      <th></th>\n",
       "      <th></th>\n",
       "    </tr>\n",
       "  </thead>\n",
       "  <tbody>\n",
       "    <tr>\n",
       "      <th>G</th>\n",
       "      <td>8327</td>\n",
       "      <td>574</td>\n",
       "      <td>186</td>\n",
       "      <td>216</td>\n",
       "      <td>9303</td>\n",
       "    </tr>\n",
       "    <tr>\n",
       "      <th>P</th>\n",
       "      <td>189</td>\n",
       "      <td>328</td>\n",
       "      <td>47</td>\n",
       "      <td>19</td>\n",
       "      <td>583</td>\n",
       "    </tr>\n",
       "    <tr>\n",
       "      <th>R</th>\n",
       "      <td>21</td>\n",
       "      <td>34</td>\n",
       "      <td>128</td>\n",
       "      <td>25</td>\n",
       "      <td>208</td>\n",
       "    </tr>\n",
       "    <tr>\n",
       "      <th>X</th>\n",
       "      <td>27</td>\n",
       "      <td>6</td>\n",
       "      <td>26</td>\n",
       "      <td>457</td>\n",
       "      <td>516</td>\n",
       "    </tr>\n",
       "    <tr>\n",
       "      <th>All</th>\n",
       "      <td>8564</td>\n",
       "      <td>942</td>\n",
       "      <td>387</td>\n",
       "      <td>717</td>\n",
       "      <td>10610</td>\n",
       "    </tr>\n",
       "  </tbody>\n",
       "</table>\n",
       "</div>"
      ],
      "text/plain": [
       "topcate_25     G    P    R    X    All\n",
       "topcate_75                            \n",
       "G           8327  574  186  216   9303\n",
       "P            189  328   47   19    583\n",
       "R             21   34  128   25    208\n",
       "X             27    6   26  457    516\n",
       "All         8564  942  387  717  10610"
      ]
     },
     "execution_count": 15,
     "metadata": {},
     "output_type": "execute_result"
    }
   ],
   "source": [
    "a = pd.concat([results_25['top category'],results_75['top category']],axis=1)\n",
    "a.columns = ['topcate_25','topcate_75']\n",
    "pd.crosstab(a['topcate_75'],a['topcate_25'],margins=True)"
   ]
  },
  {
   "cell_type": "markdown",
   "metadata": {},
   "source": [
    "#### category = _G_ has the most errors"
   ]
  }
 ],
 "metadata": {
  "kernelspec": {
   "display_name": "Python 2",
   "language": "python",
   "name": "python2"
  },
  "language_info": {
   "codemirror_mode": {
    "name": "ipython",
    "version": 2
   },
   "file_extension": ".py",
   "mimetype": "text/x-python",
   "name": "python",
   "nbconvert_exporter": "python",
   "pygments_lexer": "ipython2",
   "version": "2.7.13"
  }
 },
 "nbformat": 4,
 "nbformat_minor": 2
}
